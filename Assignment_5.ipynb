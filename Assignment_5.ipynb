{
 "cells": [
  {
   "cell_type": "code",
   "execution_count": 1,
   "metadata": {},
   "outputs": [
    {
     "name": "stdout",
     "output_type": "stream",
     "text": [
      "Enter number:  4\n",
      "Factorial of 4 is: 24\n"
     ]
    }
   ],
   "source": [
    "#-----------TASK#1--------------\n",
    "fect=int(input(\"Enter number:  \"))\n",
    "def fectorial(fect):\n",
    "    b=0\n",
    "    for a in range (0,fect):\n",
    "        \n",
    "        b=b+(a*fect)\n",
    "        \n",
    "    print(\"Factorial of\",fect, \"is:\",b)\n",
    "fectorial(fect)"
   ]
  },
  {
   "cell_type": "code",
   "execution_count": 2,
   "metadata": {},
   "outputs": [
    {
     "name": "stdout",
     "output_type": "stream",
     "text": [
      "Enter string:ArSALan\n",
      "Total number of lowercase characters is:  3\n",
      "Total number of uppercase characters is:  4\n"
     ]
    }
   ],
   "source": [
    "#-----------TASK#2--------------\n",
    "string=input(\"Enter string:\")\n",
    "def character_check(string):\n",
    "    lower_count=0\n",
    "    upper_count=0\n",
    "    for count in string:\n",
    "          if(count.islower()):\n",
    "                lower_count=lower_count+1\n",
    "          elif(count.isupper()):\n",
    "                upper_count=upper_count+1\n",
    "    print(\"Total number of lowercase characters is: \",lower_count)\n",
    "    print(\"Total number of uppercase characters is: \",upper_count)\n",
    "    \n",
    "character_check(string)\n"
   ]
  },
  {
   "cell_type": "code",
   "execution_count": 7,
   "metadata": {},
   "outputs": [
    {
     "name": "stdout",
     "output_type": "stream",
     "text": [
      "Even Numbers [202, 2, 88, 96, 88]\n"
     ]
    }
   ],
   "source": [
    "#-----------TASK#3--------------\n",
    "list=[202,2,3,45,67,88,96,88]\n",
    "\n",
    "def even_find ():\n",
    "  list1 =[]\n",
    "  for a in list:\n",
    "   if a%2==0:\n",
    "       list1.append(a)\n",
    "  print(\"Even Numbers\",list1)\n",
    "even_find(list)"
   ]
  },
  {
   "cell_type": "code",
   "execution_count": 8,
   "metadata": {},
   "outputs": [
    {
     "name": "stdout",
     "output_type": "stream",
     "text": [
      "Enter String: abcba\n",
      "Given string is palindrom\n"
     ]
    }
   ],
   "source": [
    "#-----------TASK#4--------------\n",
    "string=input(\"Enter String: \")\n",
    "def palindrom_check(string):\n",
    "    string_rev = string[::-1]\n",
    "    if string == string_rev:\n",
    "        print(\"Given string is palindrom\")\n",
    "    else:\n",
    "        print(\"Given string Not a palindrom\")\n",
    "palindrom_check(string)\n"
   ]
  },
  {
   "cell_type": "code",
   "execution_count": 9,
   "metadata": {},
   "outputs": [
    {
     "name": "stdout",
     "output_type": "stream",
     "text": [
      "Enter Integer: 31\n",
      "31 is a prime number\n"
     ]
    }
   ],
   "source": [
    "#-----------TASK#5--------------\n",
    "integer=int(input(\"Enter Integer: \"))\n",
    "def prime_check(integer):\n",
    "     if integer == 1:\n",
    "         print(integer,\"is a prime number\")\n",
    "         \n",
    "     elif integer>1:\n",
    "            for a in range(2,integer):\n",
    "                if(integer % a)== 0:       \n",
    "                    print(integer,\"is not a prime number\")\n",
    "                    break\n",
    "            else:\n",
    "                print(integer,\"is a prime number\")\n",
    "     else:\n",
    "             print(integer,\"is not a prime number\")      \n",
    "prime_check(integer)\n"
   ]
  },
  {
   "cell_type": "code",
   "execution_count": 12,
   "metadata": {},
   "outputs": [
    {
     "name": "stdout",
     "output_type": "stream",
     "text": [
      "Market Name is Imtiaz Super Market\n",
      "Grocery Items list:\n",
      "Egg\n",
      "Butter\n",
      "Oli\n",
      "Meat\n",
      "Oranges\n"
     ]
    }
   ],
   "source": [
    "#-----------TASK#6--------------\n",
    "def grocery(market_name,*items):\n",
    "    print(\"Market Name is \"+market_name)\n",
    "    for item in items:\n",
    "       print(item)\n",
    "\n",
    "grocery(\"Imtiaz Super Market\",\"Grocery Items list:\",\"Egg\",\"Butter\",\"Oli\",\"Meat\",\"Oranges\")"
   ]
  },
  {
   "cell_type": "code",
   "execution_count": null,
   "metadata": {},
   "outputs": [],
   "source": []
  }
 ],
 "metadata": {
  "kernelspec": {
   "display_name": "Python 3",
   "language": "python",
   "name": "python3"
  },
  "language_info": {
   "codemirror_mode": {
    "name": "ipython",
    "version": 3
   },
   "file_extension": ".py",
   "mimetype": "text/x-python",
   "name": "python",
   "nbconvert_exporter": "python",
   "pygments_lexer": "ipython3",
   "version": "3.7.4"
  }
 },
 "nbformat": 4,
 "nbformat_minor": 2
}
