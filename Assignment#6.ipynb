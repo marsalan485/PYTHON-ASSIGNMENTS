{
 "cells": [
  {
   "cell_type": "code",
   "execution_count": 1,
   "metadata": {},
   "outputs": [],
   "source": [
    "                  #----------Question 1:-----------\n",
    "                    #OBJECT ORIENTED PROGRAMMING:\n",
    "#As the name suggests uses objects in programming.OOP aims to implement real-world \n",
    "#entities like inheritance,hiding, polymorphism, etc in programming. The main aim of \n",
    "#OOP is to bind together the data and the functions that operate on them so that no other \n",
    "#part of the code can access this data except that function."
   ]
  },
  {
   "cell_type": "code",
   "execution_count": 2,
   "metadata": {},
   "outputs": [],
   "source": [
    "                 #----------Question 2:-----------\n",
    "   #BENIFITS OF OOP:\n",
    "#1)Reusability.\n",
    "#2)Easy to understand.\n",
    "#3)Models the real world well.\n",
    "#4)Software complexity can be easily managed.\n",
    "#5)The principle of data hiding helps the programmer to build secure programs."
   ]
  },
  {
   "cell_type": "code",
   "execution_count": 3,
   "metadata": {},
   "outputs": [],
   "source": [
    "                 #----------Question 3:-----------\n",
    "                             #METOD:\n",
    "#1)Method is called by its name, but it is associated to an object (dependent).\n",
    "#2)A method is implicitly passed the object on which it is invoked.\n",
    "#3)It may or may not return any data.\n",
    "#4)A method can operate on the data (instance variables) that is contained by the corresponding class.\n",
    "                            #FUNCTION:\n",
    "#1)Function is block of code that is also called by its name. (independent)\n",
    "#2)The function can have different parameters or may not have any at all.If any data (parameters) are \n",
    "#passed, they are passed explicitly.\n",
    "#3)It may or may not return any data.\n",
    "#4)Function does not deal with Class and its instance concept."
   ]
  },
  {
   "cell_type": "code",
   "execution_count": 4,
   "metadata": {},
   "outputs": [],
   "source": [
    "                    #----------Question 4:-----------\n",
    "#CLASS:\n",
    "#A class is a code template for creating objects. Objects have member variables and have behaviour associated\n",
    "#with them. In python a class is created by the keyword class.\n",
    "\n",
    "#OBJECT: \n",
    "#A unique instance of a data structure that's defined by its class.An object comprises both data members \n",
    "#(class variables and instance variables) and methods.\n",
    "\n",
    "#ATTRIBUTES\n",
    "#Attributes are data stored inside a class or instance and represent the state or quality of the class or instance. \n",
    "#In short, attributes store information about the instance.\n",
    "\n",
    "#BEHAVIOR:\n",
    "#The behavior of an object is defined by its methods, which are the functions and subroutines defined within the object class.\n",
    "#Without class methods, a class would simply be a structure. Methods determine what type of functionality a class has, how it \n",
    "#modifies its data, and its overall behavior."
   ]
  },
  {
   "cell_type": "code",
   "execution_count": 6,
   "metadata": {},
   "outputs": [
    {
     "name": "stdout",
     "output_type": "stream",
     "text": [
      "this car name is :  city\n",
      "Suzuki\n",
      "IUO-9676\n",
      "\n",
      "\n",
      "2012\n",
      "White\n",
      "city\n",
      "Honda\n",
      "KBG-689\n"
     ]
    }
   ],
   "source": [
    "            #----------Question 5:-----------\n",
    "class Car:\n",
    "    def __init__(self,model,color,name,company,number):\n",
    "        self.model=model\n",
    "        self.color=color\n",
    "        self.name=name\n",
    "        self.company=company\n",
    "        self.number=number\n",
    "        \n",
    "    def print_name(self):\n",
    "        print(\"this car name is : \",self.name)\n",
    "            \n",
    "    def print_UPdatecompany(self):\n",
    "        self.company=\"Suzuki\"\n",
    "        print(self.company)\n",
    "            \n",
    "    def print_number(self):\n",
    "        print(self.number)\n",
    "        \n",
    "car_1 = Car('2012','White','city','Honda','KBG-689')\n",
    "car_2 = Car ('2014','Blue','Mehran','Suzuki','KQW-634')\n",
    "car_3 = Car ('2015','Yellow','Core','Hond','IUO-9676')\n",
    "car_4 = Car('2018','white','VIGO','Toyota','XYW-212')\n",
    "car_5 = Car('2017','Red','land Cruiser','Toyota','YUT-132')\n",
    "\n",
    "car_1.print_name()\n",
    "car_2.print_UPdatecompany()\n",
    "car_3.print_number()\n",
    "print('\\n')\n",
    "print(car_1.model)\n",
    "print(car_1.color)\n",
    "print(car_1.name)\n",
    "print(car_1.company)\n",
    "print(car_1.number)\n",
    "\n",
    "\n",
    "            "
   ]
  },
  {
   "cell_type": "code",
   "execution_count": null,
   "metadata": {},
   "outputs": [],
   "source": []
  }
 ],
 "metadata": {
  "kernelspec": {
   "display_name": "Python 3",
   "language": "python",
   "name": "python3"
  },
  "language_info": {
   "codemirror_mode": {
    "name": "ipython",
    "version": 3
   },
   "file_extension": ".py",
   "mimetype": "text/x-python",
   "name": "python",
   "nbconvert_exporter": "python",
   "pygments_lexer": "ipython3",
   "version": "3.7.4"
  }
 },
 "nbformat": 4,
 "nbformat_minor": 2
}
