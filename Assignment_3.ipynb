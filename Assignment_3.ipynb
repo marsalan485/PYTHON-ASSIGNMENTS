{
 "cells": [
  {
   "cell_type": "code",
   "execution_count": 108,
   "metadata": {},
   "outputs": [
    {
     "name": "stdout",
     "output_type": "stream",
     "text": [
      "Enter first value:-    4\n",
      "Enter second value:-   6\n",
      "Enter Operator:-       *\n",
      "\n",
      "Answer:-               24\n"
     ]
    }
   ],
   "source": [
    "val1 = int(input(\"Enter first value:-    \"))\n",
    "val2 = int(input(\"Enter second value:-   \"))\n",
    "operator = input(\"Enter Operator:-       \")\n",
    "\n",
    "if operator == '+':\n",
    "    val = val1 + val2\n",
    "    print('\\nAnswer:-              ',val)\n",
    "elif operator == '-' :  \n",
    "    val = val1 - val2\n",
    "    print('\\nAnswer:-              ',val)\n",
    "elif operator == '*' :  \n",
    "    val = val1 * val2\n",
    "    print('\\nAnswer:-              ',val)\n",
    "elif operator == '/' :  \n",
    "    val = val1 / val2\n",
    "    print('\\nAnswer:-              ',val)\n",
    "elif operator == 'p' :                     # For power\n",
    "    val = val1 ** val2\n",
    "    print('\\nAnswer:-              ',val)    \n",
    "else:\n",
    "    print(val,'  Enter correct operator')"
   ]
  },
  {
   "cell_type": "code",
   "execution_count": 17,
   "metadata": {},
   "outputs": [
    {
     "name": "stdout",
     "output_type": "stream",
     "text": [
      "Numeric value in a list is:-     5\n",
      "Numeric value in a list is:-     8\n",
      "Numeric value in a list is:-     20\n",
      "Numeric value in a list is:-     2.6\n"
     ]
    }
   ],
   "source": [
    "array = [\"Anus\",\"Arsalan\",5,8,\"w\",\"d\",20,\"f\",2.6]\n",
    "\n",
    "for s in array:\n",
    "    if type(s) == int:\n",
    "        print(\"Numeric value in a list is:-    \",s)\n",
    "    elif type(s) == float:\n",
    "        print(\"Numeric value in a list is:-    \",s)\n",
    "        \n",
    "        "
   ]
  },
  {
   "cell_type": "code",
   "execution_count": 16,
   "metadata": {},
   "outputs": [
    {
     "name": "stdout",
     "output_type": "stream",
     "text": [
      "{'First name': 'Muhammad', 'Last name': 'Mirza', 'Address': 'Gulistan-e-johar', 'Language': 'English'}\n"
     ]
    }
   ],
   "source": [
    "customer = {\n",
    "     \"First name\": \"Muhammad\",\n",
    "     \"Last name\": \"Mirza\",\n",
    "     \"Address\": \"Gulistan-e-johar\"\n",
    "}\n",
    "\n",
    "customer[\"Language\"] = 'English'\n",
    "print(customer)"
   ]
  },
  {
   "cell_type": "code",
   "execution_count": 65,
   "metadata": {},
   "outputs": [
    {
     "name": "stdout",
     "output_type": "stream",
     "text": [
      "Total Bill:-      915\n"
     ]
    }
   ],
   "source": [
    "a = 0\n",
    "Grocery = {\n",
    "     \"Milk\": \"105\",\n",
    "     \"Eggs\": \"60\",\n",
    "     \"Rice\": \"170\",\n",
    "     \"Flour\": \"580\"\n",
    "    }\n",
    "\n",
    "for val in Grocery.values():\n",
    "    Sum_val = int(a) + int(val)\n",
    "    a = Sum_val\n",
    "print(\"Total Bill:-     \",Sum_val) \n",
    "    "
   ]
  },
  {
   "cell_type": "code",
   "execution_count": 15,
   "metadata": {},
   "outputs": [
    {
     "name": "stdout",
     "output_type": "stream",
     "text": [
      "Duplicate value is     34\n",
      "Duplicate value is     6\n",
      "Duplicate value is     Arsalan\n",
      "Duplicate value is     89\n",
      "Duplicate value is     65\n"
     ]
    }
   ],
   "source": [
    "array = ['Arham','Arsalan',34,6,89,65,'Arham  ',34,'Umaima',6,'Arsalan',89,65]\n",
    "\n",
    "array_dup = []\n",
    "\n",
    "for s in array:\n",
    "    for u in array_dup:    \n",
    "        if (s == u):\n",
    "            print('Duplicate value is    ',s)\n",
    "    array_dup.append(s)"
   ]
  },
  {
   "cell_type": "code",
   "execution_count": 14,
   "metadata": {},
   "outputs": [
    {
     "name": "stdout",
     "output_type": "stream",
     "text": [
      "Enter Key Name:-    johar\n"
     ]
    }
   ],
   "source": [
    "customer = {\n",
    "    \"first name\": \"anus\",     \n",
    "    \"last name\": \"mirza\",\n",
    "    \"address\": \"johar\"\n",
    "    \n",
    "}\n",
    "\n",
    "val = input('Enter Key Name:-    ')\n",
    "\n",
    "for C in customer:\n",
    "    if val == C:\n",
    "        print('\\nThis Key is already exists....')\n",
    "        break"
   ]
  },
  {
   "cell_type": "code",
   "execution_count": null,
   "metadata": {},
   "outputs": [],
   "source": []
  },
  {
   "cell_type": "code",
   "execution_count": null,
   "metadata": {},
   "outputs": [],
   "source": []
  }
 ],
 "metadata": {
  "kernelspec": {
   "display_name": "Python 3",
   "language": "python",
   "name": "python3"
  },
  "language_info": {
   "codemirror_mode": {
    "name": "ipython",
    "version": 3
   },
   "file_extension": ".py",
   "mimetype": "text/x-python",
   "name": "python",
   "nbconvert_exporter": "python",
   "pygments_lexer": "ipython3",
   "version": "3.7.4"
  }
 },
 "nbformat": 4,
 "nbformat_minor": 2
}
