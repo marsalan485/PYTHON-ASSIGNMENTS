{
 "cells": [
  {
   "cell_type": "code",
   "execution_count": 1,
   "metadata": {},
   "outputs": [
    {
     "name": "stdout",
     "output_type": "stream",
     "text": [
      "{'first_name': 'Muhammad', 'last_name': 'Arsalan', 'age': 22, 'city': 'Kharachi'}\n",
      "{'first_name': 'Muhammad', 'last_name': 'Arsalan', 'age': 22, 'city': 'Kharachi', 'Qualification': 'BE in Telecommunication Engineering'}\n",
      "{'first_name': 'Muhammad', 'last_name': 'Arsalan', 'age': 22, 'city': 'Kharachi'}\n"
     ]
    }
   ],
   "source": [
    "person = {\n",
    "    'first_name':'Muhammad',\n",
    "    'last_name': 'Arsalan',\n",
    "    'age': 22,\n",
    "    'city': 'Kharachi',\n",
    "    }\n",
    "print (person)\n",
    "person['Qualification']='BE in Telecommunication Engineering'  \n",
    "print (person)\n",
    "del person['Qualification']\n",
    "print (person)"
   ]
  },
  {
   "cell_type": "code",
   "execution_count": 2,
   "metadata": {},
   "outputs": [
    {
     "name": "stdout",
     "output_type": "stream",
     "text": [
      "\n",
      "Karachi is in Pakistan.\n",
      "  It has a population of about 1557667.\n",
      "  The 22 ranked in the world.\n",
      "\n",
      "Lahore is in Pakistan.\n",
      "  It has a population of about 1765768768.\n",
      "  The 18 ranked in the world.\n",
      "\n",
      "Islamabad is in Pakistan.\n",
      "  It has a population of about 176678.\n",
      "  The 10 ranked in the world.\n"
     ]
    }
   ],
   "source": [
    "cities = {\n",
    "    'Karachi': {\n",
    "        'country': 'Pakistan',\n",
    "        'population':1557667,\n",
    "        'ranked': '22',\n",
    "        },\n",
    "    'Lahore': {\n",
    "        'country': 'Pakistan',\n",
    "        'population':1765768768,\n",
    "        'ranked': '18',\n",
    "        },\n",
    "    'Islamabad': {\n",
    "        'country': 'Pakistan',\n",
    "        'population':176678,\n",
    "        'ranked': '10',\n",
    "        }\n",
    "    }\n",
    "\n",
    "for city, city_info in cities.items():\n",
    "    country = city_info['country'].title()\n",
    "    population = city_info['population']\n",
    "    ranked = city_info['ranked'].title()\n",
    "\n",
    "    print(\"\\n\" + city.title() + \" is in \" + country + \".\")\n",
    "    print(\"  It has a population of about \" + str(population) + \".\")\n",
    "    print(\"  The \" + ranked + \" ranked in the world.\")"
   ]
  },
  {
   "cell_type": "code",
   "execution_count": 3,
   "metadata": {},
   "outputs": [
    {
     "name": "stdout",
     "output_type": "stream",
     "text": [
      "**********MOVIE THEATER**********\n",
      "How old are you?   3\n",
      "  Your ticket is $10.\n",
      "\n",
      "If you wants to quit then press 'q' other wise press any key to continue:\n",
      "q\n"
     ]
    }
   ],
   "source": [
    "print(\"**********MOVIE THEATER**********\")\n",
    "while True:   \n",
    " age=int(input(\"How old are you?   \"))\n",
    "\n",
    "\n",
    " if age < 3:\n",
    "    print(\"  You get in free!\")\n",
    "     \n",
    " elif age <= 12:\n",
    "    print(\"  Your ticket is $10.\")\n",
    "     \n",
    " else:\n",
    "    print(\"  Your ticket is $15.\")\n",
    "   \n",
    "\n",
    " qit = input(\"\\nIf you wants to quit then press 'q' other wise press any key to continue:\\n\" )\n",
    " \n",
    " if qit == \"q\":\n",
    "   break        \n",
    "    \n"
   ]
  },
  {
   "cell_type": "code",
   "execution_count": 5,
   "metadata": {},
   "outputs": [
    {
     "name": "stdout",
     "output_type": "stream",
     "text": [
      "The RUST Discovery is one of my favorite books.\n"
     ]
    }
   ],
   "source": [
    "def favorite_book(title):\n",
    "    \"\"\"Display a message about favorite book.\"\"\"\n",
    "    print(title + \" is one of my favorite books.\")\n",
    "\n",
    "favorite_book('The RUST Discovery')\n"
   ]
  },
  {
   "cell_type": "code",
   "execution_count": 7,
   "metadata": {},
   "outputs": [
    {
     "name": "stdout",
     "output_type": "stream",
     "text": [
      "********YOUR HINT*******\n",
      "  'You have only 3 attemps'\n",
      "Enter your guess: 3\n",
      "your guess is wrong\n",
      "Enter your guess: 5\n",
      "your guess is wrong\n",
      "Enter your guess: 5\n",
      "your guess is wrong\n",
      "*******better luck next time)*********\n"
     ]
    }
   ],
   "source": [
    "import random\n",
    "rand=random.randint(1,30)\n",
    "a=0\n",
    "print(\"********YOUR HINT*******\")\n",
    "print(\"  'You have only 3 attemps'\")\n",
    "if rand>= 1 and rand < 10:\n",
    "    print(\"Try a number between 1 and 10\")\n",
    "elif rand>= 10 and rand< 20:\n",
    "    print(\"Try a number between 10 and 20\")\n",
    "elif rand>= 20 and rand< 30:\n",
    "    print(\"Try a number between 20 and 30\")\n",
    "for i in range(0,3):\n",
    "    user = int(input(\"Enter your guess: \"))\n",
    "    if user < 1 or user > 30:\n",
    "        print(\"Choose a number between 1 and 30\")\n",
    "    else:\n",
    "        if user == rand:\n",
    "            print(\"your guess is right\")\n",
    "            break\n",
    "        else:\n",
    "            a+=1\n",
    "            print(\"your guess is wrong\")\n",
    "            if a==3:\n",
    "              print(\"*******better luck next time)*********\")\n",
    "              break\n"
   ]
  },
  {
   "cell_type": "code",
   "execution_count": null,
   "metadata": {},
   "outputs": [],
   "source": []
  },
  {
   "cell_type": "code",
   "execution_count": null,
   "metadata": {},
   "outputs": [],
   "source": []
  }
 ],
 "metadata": {
  "kernelspec": {
   "display_name": "Python 3",
   "language": "python",
   "name": "python3"
  },
  "language_info": {
   "codemirror_mode": {
    "name": "ipython",
    "version": 3
   },
   "file_extension": ".py",
   "mimetype": "text/x-python",
   "name": "python",
   "nbconvert_exporter": "python",
   "pygments_lexer": "ipython3",
   "version": "3.7.4"
  }
 },
 "nbformat": 4,
 "nbformat_minor": 2
}
