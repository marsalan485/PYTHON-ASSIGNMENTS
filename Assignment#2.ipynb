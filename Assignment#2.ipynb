{
 "cells": [
  {
   "cell_type": "code",
   "execution_count": 1,
   "metadata": {},
   "outputs": [
    {
     "name": "stdout",
     "output_type": "stream",
     "text": [
      "***************STATEMENT OF MARKS*****************\n",
      "\n",
      "Enter signal systems marks    :67\n",
      "Enter complex variable marks  :89\n",
      "Enter basic electrical marks  :45\n",
      "Enter Digit processing marks  :78\n",
      "Enter liner control sys marks :90\n",
      "\n",
      "Total Marks   :  500\n",
      "Obtain Marks  :  369\n",
      "Average       :  0.738\n",
      "Percentage    :  73.8\n",
      "Grad : A\n",
      "\n",
      "You have Cleared this semester\n"
     ]
    }
   ],
   "source": [
    "print(\"***************STATEMENT OF MARKS*****************\\n\")\n",
    "\n",
    "ss  = int (input(\"Enter signal systems marks    :\"))\n",
    "cv  = int (input(\"Enter complex variable marks  :\"))\n",
    "be  = int (input(\"Enter basic electrical marks  :\"))\n",
    "dsp = int (input(\"Enter Digit processing marks  :\"))\n",
    "lcs = int (input(\"Enter liner control sys marks :\"))\n",
    "\n",
    "total  = 500\n",
    "obtain = (ss + cv + be + dsp + lcs)\n",
    "avg    = obtain/total\n",
    "per    = avg*100\n",
    "print(\"\\nTotal Marks   : \",total)\n",
    "print(\"Obtain Marks  : \",obtain)\n",
    "print(\"Average       : \",avg)\n",
    "print(\"Percentage    : \",per)\n",
    "\n",
    "if ss >=0 and ss <= 100 and cv >=0 and cv <= 100 and be >=0 and be <= 100 and dsp >=0 and dsp <= 100 and lcs >=0 and lcs <= 100:\n",
    "\n",
    "   if ss >=33 and cv >=33 and be >=33 and dsp >=33 and lcs >=33 :\n",
    "    \n",
    "        if per >=80 and per <= 100 :\n",
    "                print(\"Grad : A+\")\n",
    "                print(\"\\nYou have Cleared this semester\")\n",
    "        elif per >= 70 and per < 80 :\n",
    "                print(\"Grad : A\")\n",
    "                print(\"\\nYou have Cleared this semester\")\n",
    "        elif per >= 60 and per < 70 :\n",
    "                 print(\"Grad : B\") \n",
    "                 print(\"\\nYou have Cleared this semester\")\n",
    "        elif per >= 50 and per < 60 :\n",
    "                 print(\"Grad : C\")\n",
    "                 print(\"\\nYou have cleared this semester\")\n",
    "        else:\n",
    "             print(\"\\nYou have fail in this semester\")\n",
    "   else:\n",
    "         print(\"\\nYou not satisfiy the passing criteria.Passing criteria is take minimum 33 marke in all subject\")\n",
    "else :\n",
    "    print(\"\\nyou have enter inapropiate subject marks\")"
   ]
  },
  {
   "cell_type": "code",
   "execution_count": 2,
   "metadata": {},
   "outputs": [
    {
     "name": "stdout",
     "output_type": "stream",
     "text": [
      "Enter numaric value :67\n",
      "\n",
      "The given number is odd\n"
     ]
    }
   ],
   "source": [
    "input = int(input(\"Enter numaric value :\"))\n",
    "if input % 2 == 0 : \n",
    "    print(\"\\nThe given number is even\")\n",
    "else: \n",
    "    print(\"\\nThe given number is odd\")\n"
   ]
  },
  {
   "cell_type": "code",
   "execution_count": 12,
   "metadata": {},
   "outputs": [
    {
     "name": "stdout",
     "output_type": "stream",
     "text": [
      "Length of list : 5\n"
     ]
    }
   ],
   "source": [
    "list = [1,2,3,4,5]\n",
    "length = len(list)\n",
    "print(\"Length of list :\",length)"
   ]
  },
  {
   "cell_type": "code",
   "execution_count": 13,
   "metadata": {},
   "outputs": [
    {
     "name": "stdout",
     "output_type": "stream",
     "text": [
      "list = [1, 34, 55, 4, 5]\n",
      "\n",
      "Sum of list = 99\n"
     ]
    }
   ],
   "source": [
    "list = [1,34,55,4,5]\n",
    "print(\"list =\",list)\n",
    "sum = list[0] + list[1] + list[2] + list[3] + list[4]\n",
    "print(\"\\nSum of list =\",sum)"
   ]
  },
  {
   "cell_type": "code",
   "execution_count": 3,
   "metadata": {},
   "outputs": [
    {
     "name": "stdout",
     "output_type": "stream",
     "text": [
      "Largest number of the list : 689\n"
     ]
    }
   ],
   "source": [
    "a = 0\n",
    "list = [100, 290, 689, 500, 600]\n",
    "\n",
    "if list[0] < list[1]:\n",
    " a = list[1]\n",
    "else:\n",
    " a = list[0]   \n",
    "if a < list[2]:\n",
    " a = list[2]\n",
    "if a < list[3]:\n",
    " a = list[3]  \n",
    "if a < list[4]:\n",
    " a = list[4]\n",
    "\n",
    "print(\"Largest number of the list :\",a)"
   ]
  },
  {
   "cell_type": "code",
   "execution_count": 7,
   "metadata": {},
   "outputs": [
    {
     "name": "stdout",
     "output_type": "stream",
     "text": [
      "[4, 3, 1, 2, 3]\n"
     ]
    }
   ],
   "source": [
    "list1 =[]\n",
    "\n",
    "list = [4, 3, 34, 5, 1 , 2 ,3]\n",
    "\n",
    "\n",
    "if list[0] < 5:\n",
    "  list1.append(list[0])\n",
    "\n",
    "if list[1] < 5:\n",
    "  list1.append(list[1])\n",
    "\n",
    "if list[2] < 5:\n",
    "  list1.append(list[2])\n",
    "\n",
    "if list[3] < 5:\n",
    "  list1.append(list[3])\n",
    "\n",
    "if list[4] < 5:\n",
    "  list1.append(list[4])\n",
    "\n",
    "if list[5] < 5:\n",
    "  list1.append(list[5])\n",
    "\n",
    "if list[6] < 5:\n",
    "  list1.append(list[6])\n",
    "\n",
    "print(list1)\n",
    "    "
   ]
  },
  {
   "cell_type": "code",
   "execution_count": null,
   "metadata": {},
   "outputs": [],
   "source": []
  },
  {
   "cell_type": "code",
   "execution_count": null,
   "metadata": {},
   "outputs": [],
   "source": []
  }
 ],
 "metadata": {
  "kernelspec": {
   "display_name": "Python 3",
   "language": "python",
   "name": "python3"
  },
  "language_info": {
   "codemirror_mode": {
    "name": "ipython",
    "version": 3
   },
   "file_extension": ".py",
   "mimetype": "text/x-python",
   "name": "python",
   "nbconvert_exporter": "python",
   "pygments_lexer": "ipython3",
   "version": "3.7.4"
  }
 },
 "nbformat": 4,
 "nbformat_minor": 2
}
